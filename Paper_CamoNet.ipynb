{
  "cells": [
    {
      "cell_type": "markdown",
      "metadata": {
        "id": "view-in-github",
        "colab_type": "text"
      },
      "source": [
        "<a href=\"https://colab.research.google.com/github/Manu1ND/colab/blob/main/Paper_CamoNet.ipynb\" target=\"_parent\"><img src=\"https://colab.research.google.com/assets/colab-badge.svg\" alt=\"Open In Colab\"/></a>"
      ]
    },
    {
      "cell_type": "code",
      "execution_count": 1,
      "metadata": {
        "id": "9AOt22AN7Lmb",
        "colab": {
          "base_uri": "https://localhost:8080/"
        },
        "cellView": "form",
        "outputId": "ba5656eb-abe4-410c-9dbd-4dba1313b2eb"
      },
      "outputs": [
        {
          "output_type": "stream",
          "name": "stdout",
          "text": [
            "Collecting gupload\n",
            "  Downloading gupload-1.1.0-py3-none-any.whl (4.7 kB)\n",
            "Collecting google-api-python-client==1.7.10\n",
            "  Downloading google_api_python_client-1.7.10-py3-none-any.whl (56 kB)\n",
            "\u001b[K     |████████████████████████████████| 56 kB 2.8 MB/s \n",
            "\u001b[?25hCollecting click==7.0\n",
            "  Downloading Click-7.0-py2.py3-none-any.whl (81 kB)\n",
            "\u001b[K     |████████████████████████████████| 81 kB 9.8 MB/s \n",
            "\u001b[?25hRequirement already satisfied: google-auth-httplib2>=0.0.3 in /usr/local/lib/python3.7/dist-packages (from google-api-python-client==1.7.10->gupload) (0.0.4)\n",
            "Requirement already satisfied: six<2dev,>=1.6.1 in /usr/local/lib/python3.7/dist-packages (from google-api-python-client==1.7.10->gupload) (1.15.0)\n",
            "Requirement already satisfied: google-auth>=1.4.1 in /usr/local/lib/python3.7/dist-packages (from google-api-python-client==1.7.10->gupload) (1.35.0)\n",
            "Requirement already satisfied: httplib2<1dev,>=0.9.2 in /usr/local/lib/python3.7/dist-packages (from google-api-python-client==1.7.10->gupload) (0.17.4)\n",
            "Requirement already satisfied: uritemplate<4dev,>=3.0.0 in /usr/local/lib/python3.7/dist-packages (from google-api-python-client==1.7.10->gupload) (3.0.1)\n",
            "Requirement already satisfied: pyasn1-modules>=0.2.1 in /usr/local/lib/python3.7/dist-packages (from google-auth>=1.4.1->google-api-python-client==1.7.10->gupload) (0.2.8)\n",
            "Requirement already satisfied: rsa<5,>=3.1.4 in /usr/local/lib/python3.7/dist-packages (from google-auth>=1.4.1->google-api-python-client==1.7.10->gupload) (4.8)\n",
            "Requirement already satisfied: cachetools<5.0,>=2.0.0 in /usr/local/lib/python3.7/dist-packages (from google-auth>=1.4.1->google-api-python-client==1.7.10->gupload) (4.2.4)\n",
            "Requirement already satisfied: setuptools>=40.3.0 in /usr/local/lib/python3.7/dist-packages (from google-auth>=1.4.1->google-api-python-client==1.7.10->gupload) (57.4.0)\n",
            "Requirement already satisfied: pyasn1<0.5.0,>=0.4.6 in /usr/local/lib/python3.7/dist-packages (from pyasn1-modules>=0.2.1->google-auth>=1.4.1->google-api-python-client==1.7.10->gupload) (0.4.8)\n",
            "Installing collected packages: google-api-python-client, click, gupload\n",
            "  Attempting uninstall: google-api-python-client\n",
            "    Found existing installation: google-api-python-client 1.12.10\n",
            "    Uninstalling google-api-python-client-1.12.10:\n",
            "      Successfully uninstalled google-api-python-client-1.12.10\n",
            "  Attempting uninstall: click\n",
            "    Found existing installation: click 7.1.2\n",
            "    Uninstalling click-7.1.2:\n",
            "      Successfully uninstalled click-7.1.2\n",
            "\u001b[31mERROR: pip's dependency resolver does not currently take into account all the packages that are installed. This behaviour is the source of the following dependency conflicts.\n",
            "earthengine-api 0.1.297 requires google-api-python-client<2,>=1.12.1, but you have google-api-python-client 1.7.10 which is incompatible.\u001b[0m\n",
            "Successfully installed click-7.0 google-api-python-client-1.7.10 gupload-1.1.0\n"
          ]
        }
      ],
      "source": [
        "#@title Code to upload result to drive (to be deleted)\n",
        "\n",
        "!pip install --upgrade gupload\n",
        "\n",
        "usrname = \"external\""
      ]
    },
    {
      "cell_type": "markdown",
      "metadata": {
        "id": "01U81VYgNCXo"
      },
      "source": [
        "# Specs"
      ]
    },
    {
      "cell_type": "code",
      "execution_count": 2,
      "metadata": {
        "colab": {
          "base_uri": "https://localhost:8080/"
        },
        "id": "1i5YVreV6Omh",
        "outputId": "c2e0b0f3-bbff-43d0-bf84-129b4b71723d"
      },
      "outputs": [
        {
          "output_type": "stream",
          "name": "stdout",
          "text": [
            "Thu Feb 10 16:36:18 2022       \n",
            "+-----------------------------------------------------------------------------+\n",
            "| NVIDIA-SMI 460.32.03    Driver Version: 460.32.03    CUDA Version: 11.2     |\n",
            "|-------------------------------+----------------------+----------------------+\n",
            "| GPU  Name        Persistence-M| Bus-Id        Disp.A | Volatile Uncorr. ECC |\n",
            "| Fan  Temp  Perf  Pwr:Usage/Cap|         Memory-Usage | GPU-Util  Compute M. |\n",
            "|                               |                      |               MIG M. |\n",
            "|===============================+======================+======================|\n",
            "|   0  Tesla T4            Off  | 00000000:00:04.0 Off |                    0 |\n",
            "| N/A   41C    P8    10W /  70W |      0MiB / 15109MiB |      0%      Default |\n",
            "|                               |                      |                  N/A |\n",
            "+-------------------------------+----------------------+----------------------+\n",
            "                                                                               \n",
            "+-----------------------------------------------------------------------------+\n",
            "| Processes:                                                                  |\n",
            "|  GPU   GI   CI        PID   Type   Process name                  GPU Memory |\n",
            "|        ID   ID                                                   Usage      |\n",
            "|=============================================================================|\n",
            "|  No running processes found                                                 |\n",
            "+-----------------------------------------------------------------------------+\n"
          ]
        }
      ],
      "source": [
        "  !nvidia-smi"
      ]
    },
    {
      "cell_type": "code",
      "execution_count": null,
      "metadata": {
        "colab": {
          "base_uri": "https://localhost:8080/"
        },
        "id": "8b_9-qkA5mKS",
        "outputId": "424374a5-c61f-40ff-c425-a98b32ab91f3"
      },
      "outputs": [
        {
          "output_type": "stream",
          "name": "stdout",
          "text": [
            "Collecting gputil\n",
            "  Downloading GPUtil-1.4.0.tar.gz (5.5 kB)\n",
            "Building wheels for collected packages: gputil\n",
            "  Building wheel for gputil (setup.py) ... \u001b[?25l\u001b[?25hdone\n",
            "  Created wheel for gputil: filename=GPUtil-1.4.0-py3-none-any.whl size=7411 sha256=26ed0d0f11b63082984165664bd3b89dbc5291dac6a9335ff533cd6c6638fb67\n",
            "  Stored in directory: /root/.cache/pip/wheels/6e/f8/83/534c52482d6da64622ddbf72cd93c35d2ef2881b78fd08ff0c\n",
            "Successfully built gputil\n",
            "Installing collected packages: gputil\n",
            "Successfully installed gputil-1.4.0\n",
            "Requirement already satisfied: psutil in /usr/local/lib/python3.7/dist-packages (5.4.8)\n"
          ]
        }
      ],
      "source": [
        "!ln -sf /opt/bin/nvidia-smi /usr/bin/nvidia-smi\n",
        "!pip install gputil\n",
        "!pip install psutil\n",
        "!pip install humanize\n",
        "import psutil\n",
        "import humanize\n",
        "import os\n",
        "import GPUtil as GPU\n",
        "GPUs = GPU.getGPUs()\n",
        "# XXX: only one GPU on Colab and isn’t guaranteed\n",
        "gpu = GPUs[0]\n",
        "def printm():\n",
        " process = psutil.Process(os.getpid())\n",
        " print(\"Gen RAM Free: \" + humanize.naturalsize( psutil.virtual_memory().available ), \" | Proc size: \" + humanize.naturalsize( process.memory_info().rss))\n",
        " print(\"GPU RAM Free: {0:.0f}MB | Used: {1:.0f}MB | Util {2:3.0f}% | Total {3:.0f}MB\".format(gpu.memoryFree, gpu.memoryUsed, gpu.memoryUtil*100, gpu.memoryTotal))\n",
        "printm()"
      ]
    },
    {
      "cell_type": "code",
      "execution_count": null,
      "metadata": {
        "id": "QmI6XenmMp-X"
      },
      "outputs": [],
      "source": [
        "import warnings\n",
        "warnings.filterwarnings('ignore')"
      ]
    },
    {
      "cell_type": "markdown",
      "metadata": {
        "id": "g6lbrhPsboa7"
      },
      "source": [
        "# Import dependencies"
      ]
    },
    {
      "cell_type": "code",
      "execution_count": null,
      "metadata": {
        "id": "bUQ-PWSVzAvt"
      },
      "outputs": [],
      "source": [
        "!pip install fastai -q --upgrade\n",
        "!pip install --upgrade albumentations\n",
        "!pip install gdown\n",
        "from fastai.vision.all import *\n",
        "import gdown\n",
        "import os\n",
        "import pandas as pd"
      ]
    },
    {
      "cell_type": "markdown",
      "metadata": {
        "id": "KgifIBJBdj2A"
      },
      "source": [
        "# Download Dataset"
      ]
    },
    {
      "cell_type": "code",
      "execution_count": null,
      "metadata": {
        "id": "VLAViCl9zle5"
      },
      "outputs": [],
      "source": [
        "gdown.download('https://drive.google.com/u/1/uc?id=1PsX8ULvWg-peKtUduyTqkyxfxXoom13S', './owl.zip', quiet=False)\n",
        "!apt-get install zip unzip\n",
        "!unzip ./owl.zip\n",
        "!rm ./owl.zip"
      ]
    },
    {
      "cell_type": "markdown",
      "metadata": {
        "id": "m9zFwG9ibdAP"
      },
      "source": [
        "# Preprocessing"
      ]
    },
    {
      "cell_type": "code",
      "execution_count": null,
      "metadata": {
        "id": "VPQ3fgo-i3l2"
      },
      "outputs": [],
      "source": [
        "seed = 1000\n",
        "\n",
        "def seed_everything(seed = seed):\n",
        "    random.seed(seed)\n",
        "    os.environ['PYTHONHASHSEED'] = str(seed)\n",
        "    np.random.seed(seed)\n",
        "    torch.manual_seed(seed)\n",
        "    torch.cuda.manual_seed_all(seed)\n",
        "    torch.backends.cudnn.deterministic = True\n",
        "    torch.backends.cudnn.benchmark = False\n",
        "\n",
        "seed_everything()"
      ]
    },
    {
      "cell_type": "code",
      "execution_count": null,
      "metadata": {
        "id": "UiCDyGMoJhwY"
      },
      "outputs": [],
      "source": [
        "path = Path('./Dataset_OWL_COD10K_v3/')\n",
        "train_images = path/'Train/Image'\n",
        "train_labels = path/'Train/GT'\n",
        "test_name = \"Test\"\n",
        "test_images = path/test_name/'Image'\n",
        "test_labels = path/test_name/'GT'"
      ]
    },
    {
      "cell_type": "code",
      "execution_count": null,
      "metadata": {
        "id": "s6WddT_XopB9"
      },
      "outputs": [],
      "source": [
        "def get_y_fn(x): \n",
        "  return Path(str(x).replace(\"Image\",\"GT\").replace(\".jpg\",\".png\"))"
      ]
    },
    {
      "cell_type": "code",
      "execution_count": null,
      "metadata": {
        "id": "1XN5GnhJg2Nz"
      },
      "outputs": [],
      "source": [
        "def ParentSplitter(x):\n",
        "    return Path(x).parent.name==test_name"
      ]
    },
    {
      "cell_type": "code",
      "execution_count": null,
      "metadata": {
        "id": "iRg6ffySjJ63"
      },
      "outputs": [],
      "source": [
        "codes = ['background','owl']\n",
        "name2id = {v:k for k,v in enumerate(codes)}\n",
        "print(name2id)\n",
        "void_code = name2id['owl']"
      ]
    },
    {
      "cell_type": "code",
      "execution_count": null,
      "metadata": {
        "id": "_CswkPGyoiIA"
      },
      "outputs": [],
      "source": [
        "def foreground_acc(input, target):\n",
        "    target = cast(target.squeeze(1), TensorBase)\n",
        "    mask = target != void_code\n",
        "    return (input.argmax(dim=1)[mask]==target[mask]).float().mean()"
      ]
    },
    {
      "cell_type": "code",
      "execution_count": null,
      "metadata": {
        "id": "zVLpKYNZQZAP"
      },
      "outputs": [],
      "source": [
        "from albumentations import (\n",
        "    Compose,\n",
        "    Pixel,\n",
        "    Blur,\n",
        "    CLAHE,\n",
        "    ChannelDropout,\n",
        "    ChannelShuffle,\n",
        "    ColorJitter,\n",
        "    Downscale,\n",
        "    Emboss,\n",
        "    Equalize,\n",
        "    FDA, #not used\n",
        "    FancyPCA,\n",
        "    FromFloat, #not used\n",
        "    GaussNoise,\n",
        "    GaussianBlur,\n",
        "    GlassBlur,\n",
        "    HistogramMatching, #not used\n",
        "    HueSaturationValue,\n",
        "    ISONoise,\n",
        "    ImageCompression,\n",
        "    InvertImg,\n",
        "    MedianBlur,\n",
        "    MotionBlur,\n",
        "    MultiplicativeNoise,\n",
        "    Posterize,\n",
        "    RGBShift,\n",
        "    RandomBrightnessContrast,\n",
        "    RandomFog,\n",
        "    RandomGamma,\n",
        "    RandomRain,\n",
        "    RandomShadow,\n",
        "    RandomSnow,\n",
        "    RandomSunFlare,\n",
        "    RandomToneCurve,\n",
        "    Sharpen,\n",
        "    Solarize,\n",
        "    Superpixels,\n",
        "    ToFloat, #not used\n",
        "    ToGray,\n",
        "    ToSepia,\n",
        "\n",
        "    # Spatial\n",
        "    Affine,\n",
        "    CenterCrop, #not used\n",
        "    CoarseDropout,\n",
        "    Crop, #not used\n",
        "    CropAndPad, #not used\n",
        "    CropNonEmptyMaskIfExists, #not used\n",
        "    ElasticTransform,\n",
        "    Flip,\n",
        "    GridDistortion,\n",
        "    GridDropout,\n",
        "    HorizontalFlip,\n",
        "    Lambda,\n",
        "    LongestMaxSize,\n",
        "    MaskDropout,\n",
        "    NoOp,\n",
        "    OpticalDistortion,\n",
        "    PadIfNeeded,\n",
        "    Perspective,\n",
        "    PiecewiseAffine,\n",
        "    RandomCrop, #not used\n",
        "    RandomCropNearBBox, #not used\n",
        "    RandomGridShuffle,\n",
        "    RandomResizedCrop, #not used\n",
        "    RandomRotate90,\n",
        "    RandomScale,\n",
        "    RandomSizedBBoxSafeCrop, #not used\n",
        "    RandomSizedCrop, #not used\n",
        "    Rotate,\n",
        "    SafeRotate,\n",
        "    ShiftScaleRotate,\n",
        "    SmallestMaxSize,\n",
        "    Transpose,\n",
        "    VerticalFlip\n",
        ")"
      ]
    },
    {
      "cell_type": "code",
      "execution_count": null,
      "metadata": {
        "id": "BrlqRf00Qadm"
      },
      "outputs": [],
      "source": [
        "class SegmentationAlbumentationsTransform(ItemTransform):\n",
        "    split_idx = 0\n",
        "    def __init__(self, aug): \n",
        "        self.aug = aug\n",
        "    def encodes(self, x):\n",
        "        img,mask = x\n",
        "        aug = self.aug(image=np.array(img), mask=np.array(mask))\n",
        "        return PILImage.create(aug[\"image\"]), PILMask.create(aug[\"mask\"])"
      ]
    },
    {
      "cell_type": "code",
      "execution_count": null,
      "metadata": {
        "id": "9OcwhMJgQcPq"
      },
      "outputs": [],
      "source": [
        "class TargetMaskConvertTransform(ItemTransform):\n",
        "    def __init__(self): \n",
        "        pass\n",
        "    def encodes(self, x):\n",
        "        img,mask = x\n",
        "        mask = np.array(mask)\n",
        "        mask[mask==255]=1\n",
        "        mask = PILMask.create(mask)\n",
        "        return img, mask"
      ]
    },
    {
      "cell_type": "markdown",
      "metadata": {
        "id": "yxK7bLUjuyob"
      },
      "source": [
        "# Compute Method"
      ]
    },
    {
      "cell_type": "markdown",
      "metadata": {
        "id": "Gsbtw3nugokf"
      },
      "source": [
        "## Constant"
      ]
    },
    {
      "cell_type": "code",
      "execution_count": null,
      "metadata": {
        "id": "2-u_staXFjZB"
      },
      "outputs": [],
      "source": [
        "size = 224\n",
        "bs = 6\n",
        "splitter = RandomSplitter(valid_pct=0.2, seed=seed)\n",
        "item_tfms = [Resize((size,size)), TargetMaskConvertTransform()]\n",
        "batch_tfms = []\n",
        "arch = resnet34\n",
        "pretrained=True\n",
        "metrics = [foreground_acc, Dice(), JaccardCoeff()]\n",
        "act_cls = nn.ReLU\n",
        "self_attention = False\n",
        "lr = 1e-3\n",
        "wd = None\n",
        "epochs = 200"
      ]
    },
    {
      "cell_type": "code",
      "execution_count": null,
      "metadata": {
        "id": "jZEqOLA_XUTp"
      },
      "outputs": [],
      "source": [
        "monitor_training = \"valid_loss\"\n",
        "comp_training = np.less\n",
        "\n",
        "monitor_evaluating = \"dice\"\n",
        "comp_evaluating = np.greater\n",
        "\n",
        "patience = 50"
      ]
    },
    {
      "cell_type": "code",
      "execution_count": null,
      "metadata": {
        "id": "4iybEUqfvuRK"
      },
      "outputs": [],
      "source": [
        "# Squish, Crop, Zero, Border\n",
        "# 128x128, 256x256, 512x512\n",
        "\n",
        "# Contrast, Flip, Brightness, Zoom\n",
        "\n",
        "# Architecture: resnet18, resnet34, resnet50\n",
        "\n",
        "# Metrics: Dice, JaccardCoeff\n",
        "\n",
        "# Relu, Mish, None (swish)\n",
        "\n",
        "# Patience: 25, 50, 100, 200\n",
        "\n",
        "# epochs"
      ]
    },
    {
      "cell_type": "code",
      "execution_count": null,
      "metadata": {
        "id": "FIyFCogZSI27"
      },
      "outputs": [],
      "source": [
        "# Import csv or make new dataframe\n",
        "if os.path.isfile(\"result.csv\"):\n",
        "  result_df = pd.read_csv(\"result.csv\", header=[0,1], index_col=[0,1])\n",
        "else:\n",
        "  col_names = [('method_type',''), ('method_name',''), ('Training','valid_loss'),(\"Training\",'foreground_acc'),(\"Training\",'dice'),('Training','jaccard_coeff'),('Testing','valid_loss'),(\"Testing\",'foreground_acc'),(\"Testing\",'dice'),('Testing','jaccard_coeff')]\n",
        "  col_list = pd.MultiIndex.from_tuples(col_names)\n",
        "  result_df = pd.DataFrame(columns = col_list).set_index([('method_type'), ('method_name')])\n",
        "\n",
        "result_df = result_df.sort_index(0)"
      ]
    },
    {
      "cell_type": "markdown",
      "metadata": {
        "id": "q-p1gckIrurS"
      },
      "source": [
        "## Compute Function"
      ]
    },
    {
      "cell_type": "code",
      "execution_count": null,
      "metadata": {
        "id": "lkeh9fzfkaKN"
      },
      "outputs": [],
      "source": [
        "def compute(method_name, method_type, size = size, splitter=splitter, item_tfms = item_tfms, batch_tfms = batch_tfms, bs = bs, arch = arch, pretrained = pretrained, metrics = metrics,\n",
        "            act_cls = act_cls, self_attention = self_attention, lr = lr, wd = wd, epochs = epochs, patience = patience):\n",
        "  \n",
        "  if(len(batch_tfms)):\n",
        "    transformPipeline = Compose(batch_tfms,p=1)\n",
        "    transformPipeline = SegmentationAlbumentationsTransform(transformPipeline)\n",
        "    item_tfms.append(transformPipeline)\n",
        "\n",
        "  callbacksFitBeforeUnfreeze = [\n",
        "    ShowGraphCallback(),\n",
        "    EarlyStoppingCallback(monitor = monitor_training, comp = comp_training, patience = patience),\n",
        "    SaveModelCallback(monitor = monitor_training, comp = comp_training, every_epoch = False, fname = method_name)  \n",
        "  ]\n",
        "  \n",
        "  dblock = DataBlock(blocks = (ImageBlock, MaskBlock(codes)),\n",
        "                  get_items = get_image_files,\n",
        "                  splitter = splitter,\n",
        "                  get_y = get_y_fn,\n",
        "                  item_tfms = item_tfms,\n",
        "                  batch_tfms = [Normalize.from_stats(*imagenet_stats)]\n",
        "                  )\n",
        "  \n",
        "  dls = dblock.dataloaders(train_images, bs=bs, num_workers=0)\n",
        "\n",
        "  seed_everything()\n",
        "\n",
        "  learn = unet_learner(dls, arch, pretrained = pretrained, metrics = metrics, wd=wd,\n",
        "                       act_cls = act_cls, self_attention = self_attention)\n",
        "\n",
        "  if(lr):\n",
        "    learn.fit_one_cycle(epochs, lr, cbs=callbacksFitBeforeUnfreeze)\n",
        "  else:\n",
        "    lr = learn.lr_find()\n",
        "    print(\"~~~~~~~~~~~~~~~~~~~~~~~~~Learning Rate~~~~~~~~~~~~~~~~~~~~~~~~~\")\n",
        "    print(lr[0].item())\n",
        "    learn.fit_one_cycle(epochs, lr[0].item(), cbs=callbacksFitBeforeUnfreeze)\n",
        "\n",
        "  # learn.load(method_name)\n",
        "  # learn.unfreeze()\n",
        "  # lr = learn.lr_find()\n",
        "  # learn.fit_one_cycle(25, slice(lr[0].item()),cbs=callbacksFitBeforeUnfreeze)\n",
        "\n",
        "  print(\"~~~~~~~~~~~~~~~~~~~~~~~~~Training Result~~~~~~~~~~~~~~~~~~~~~~~~~\")\n",
        "  train_validate = learn.validate()\n",
        "  print(train_validate)\n",
        "\n",
        "  test_img = get_image_files(test_images)\n",
        "  dl = learn.dls.test_dl(test_img, with_labels=True)\n",
        "  print(\"~~~~~~~~~~~~~~~~~~~~~~~~~Testing Result~~~~~~~~~~~~~~~~~~~~~~~~~~\")\n",
        "  test_validate = learn.validate(dl=dl)\n",
        "  print(test_validate)\n",
        "  \n",
        "  result_df.loc[(method_type, method_name), :] = train_validate + test_validate\n",
        "  #result_df.to_csv('result.csv')\n",
        "  result_df.to_csv(f'{usrname}.csv')\n",
        "\n",
        "  # Delete pth file\n",
        "  !rm -rf ./models\n",
        "\n",
        "  # Upload files to Drive (to be deleted)\n",
        "  !gupload --to '1bP_PH9nhcoQSAh2bZC3T6FkggEYex90P' $\"{usrname}\".csv\n",
        "\n",
        "  return learn"
      ]
    },
    {
      "cell_type": "markdown",
      "metadata": {
        "id": "fmfr6Tviutfm"
      },
      "source": [
        "# Experiments"
      ]
    },
    {
      "cell_type": "markdown",
      "metadata": {
        "id": "lZvOQdGA1pOY"
      },
      "source": [
        "### 512x512"
      ]
    },
    {
      "cell_type": "markdown",
      "metadata": {
        "id": "7fOQvp9x1pOY"
      },
      "source": [
        "#### Crop"
      ]
    },
    {
      "cell_type": "code",
      "execution_count": null,
      "metadata": {
        "id": "aVn3RaFZ1pOY"
      },
      "outputs": [],
      "source": [
        "compute(\"Crop\", \"Resize 512x512\", item_tfms = [Resize((512,512), method=ResizeMethod.Crop), TargetMaskConvertTransform()])"
      ]
    },
    {
      "cell_type": "markdown",
      "metadata": {
        "id": "pn8jcHwa1pOZ"
      },
      "source": [
        "#### Border"
      ]
    },
    {
      "cell_type": "code",
      "execution_count": null,
      "metadata": {
        "id": "2FZiY8pL1pOZ"
      },
      "outputs": [],
      "source": [
        "compute(\"Border\", \"Resize 512x512\", item_tfms = [Resize((512,512), method=ResizeMethod.Pad, pad_mode=PadMode.Border), TargetMaskConvertTransform()])"
      ]
    },
    {
      "cell_type": "markdown",
      "metadata": {
        "id": "5UN3MK881pOZ"
      },
      "source": [
        "#### Reflection"
      ]
    },
    {
      "cell_type": "code",
      "execution_count": null,
      "metadata": {
        "id": "DOzFzhJ01pOZ"
      },
      "outputs": [],
      "source": [
        "compute(\"Reflection\", \"Resize 512x512\", item_tfms = [Resize((512,512), method=ResizeMethod.Pad, pad_mode=PadMode.Reflection), TargetMaskConvertTransform()])"
      ]
    },
    {
      "cell_type": "markdown",
      "metadata": {
        "id": "LfuNRCeb1pOZ"
      },
      "source": [
        "#### Zero"
      ]
    },
    {
      "cell_type": "code",
      "execution_count": null,
      "metadata": {
        "id": "cxygu8q41pOZ"
      },
      "outputs": [],
      "source": [
        "compute(\"Zero\", \"Resize 512x512\", item_tfms = [Resize((512,512), method=ResizeMethod.Pad, pad_mode=PadMode.Zeros), TargetMaskConvertTransform()])"
      ]
    },
    {
      "cell_type": "markdown",
      "metadata": {
        "id": "ZDJObX1yIBIr"
      },
      "source": [
        "### Pixel\n"
      ]
    },
    {
      "cell_type": "markdown",
      "metadata": {
        "id": "kwlzcwnbpMGC"
      },
      "source": [
        "#### RandomShadow"
      ]
    },
    {
      "cell_type": "code",
      "execution_count": null,
      "metadata": {
        "id": "M1YVlqWWbRvm"
      },
      "outputs": [],
      "source": [
        "compute(\"RandomShadow\", \"Data Augmentation [Pixel]\", batch_tfms=[RandomShadow()])"
      ]
    },
    {
      "cell_type": "markdown",
      "metadata": {
        "id": "-8MX3e2_1Pf9"
      },
      "source": [
        "### 6"
      ]
    },
    {
      "cell_type": "markdown",
      "metadata": {
        "id": "n5sjqbea96Hf"
      },
      "source": [
        "#### Pretrained True"
      ]
    },
    {
      "cell_type": "markdown",
      "metadata": {
        "id": "506-lMgb96Hg"
      },
      "source": [
        "##### DenseNet121"
      ]
    },
    {
      "cell_type": "code",
      "execution_count": null,
      "metadata": {
        "id": "V-fnTSbn96Hj"
      },
      "outputs": [],
      "source": [
        "compute(\"DenseNet121_Pretrained[True]\", \"Backbone [BS 6]\", arch=densenet121, bs=6)"
      ]
    },
    {
      "cell_type": "markdown",
      "metadata": {
        "id": "n4AEucOF96Hm"
      },
      "source": [
        "##### DenseNet161"
      ]
    },
    {
      "cell_type": "code",
      "execution_count": null,
      "metadata": {
        "id": "4zc51eia96Hm"
      },
      "outputs": [],
      "source": [
        "compute(\"DenseNet161_Pretrained[True]\", \"Backbone [BS 6]\", arch=densenet161, bs=6)"
      ]
    },
    {
      "cell_type": "markdown",
      "metadata": {
        "id": "C636RoEA96Hm"
      },
      "source": [
        "##### DenseNet169"
      ]
    },
    {
      "cell_type": "code",
      "execution_count": null,
      "metadata": {
        "id": "1nY5aWu296Hm"
      },
      "outputs": [],
      "source": [
        "compute(\"DenseNet169_Pretrained[True]\", \"Backbone [BS 6]\", arch=densenet169, bs=6)"
      ]
    },
    {
      "cell_type": "markdown",
      "metadata": {
        "id": "5jfYxdXc96Hm"
      },
      "source": [
        "##### DenseNet201"
      ]
    },
    {
      "cell_type": "code",
      "execution_count": null,
      "metadata": {
        "id": "kiepC1z896Hm"
      },
      "outputs": [],
      "source": [
        "compute(\"DenseNet201_Pretrained[True]\", \"Backbone [BS 6]\", arch=densenet201, bs=6)"
      ]
    },
    {
      "cell_type": "markdown",
      "metadata": {
        "id": "uMOD9Ogd96Hf"
      },
      "source": [
        "##### ResNet50"
      ]
    },
    {
      "cell_type": "code",
      "execution_count": null,
      "metadata": {
        "id": "ucV1P0-i96Hf"
      },
      "outputs": [],
      "source": [
        "compute(\"ResNet50_Pretrained[True]\", \"Backbone [BS 6]\", arch=resnet50, bs=6)"
      ]
    },
    {
      "cell_type": "markdown",
      "metadata": {
        "id": "mmFy3r4_96Hl"
      },
      "source": [
        "##### Resnet101"
      ]
    },
    {
      "cell_type": "code",
      "execution_count": null,
      "metadata": {
        "id": "-8FrSV_O96Hl"
      },
      "outputs": [],
      "source": [
        "compute(\"Resnet101_Pretrained[True]\", \"Backbone [BS 6]\", arch=resnet101, bs=6)"
      ]
    },
    {
      "cell_type": "markdown",
      "metadata": {
        "id": "47sXY7zN96Hl"
      },
      "source": [
        "##### Resnet152"
      ]
    },
    {
      "cell_type": "code",
      "execution_count": null,
      "metadata": {
        "id": "KXasQ37296Hm"
      },
      "outputs": [],
      "source": [
        "compute(\"Resnet152_Pretrained[True]\", \"Backbone [BS 6]\", arch=resnet152, bs=6)"
      ]
    },
    {
      "cell_type": "markdown",
      "metadata": {
        "id": "5pkeJhPq96Hl"
      },
      "source": [
        "##### XResNet50"
      ]
    },
    {
      "cell_type": "code",
      "execution_count": null,
      "metadata": {
        "id": "qf4JIZBc96Hl"
      },
      "outputs": [],
      "source": [
        "compute(\"XResNet50_Pretrained[True]\", \"Backbone [BS 6]\", arch=xresnet50, bs=6)"
      ]
    },
    {
      "cell_type": "markdown",
      "metadata": {
        "id": "SEIY8s8b96Hm"
      },
      "source": [
        "#### Pretrained False"
      ]
    },
    {
      "cell_type": "markdown",
      "metadata": {
        "id": "skKAAUmR96Hq"
      },
      "source": [
        "##### AlexNet"
      ]
    },
    {
      "cell_type": "code",
      "execution_count": null,
      "metadata": {
        "id": "HuMcqjVA96Hq"
      },
      "outputs": [],
      "source": [
        "compute(\"AlexNet_Pretrained[False]\", \"Backbone [BS 6]\", arch=alexnet, pretrained = False, bs=6)"
      ]
    },
    {
      "cell_type": "markdown",
      "metadata": {
        "id": "cXXceTZA96Hq"
      },
      "source": [
        "##### DenseNet121"
      ]
    },
    {
      "cell_type": "code",
      "execution_count": null,
      "metadata": {
        "id": "rsszXQ9z96Hq"
      },
      "outputs": [],
      "source": [
        "compute(\"DenseNet121_Pretrained[False]\", \"Backbone [BS 6]\", arch=densenet121, pretrained = False, bs=6)"
      ]
    },
    {
      "cell_type": "markdown",
      "metadata": {
        "id": "WMzaHsQz96Hq"
      },
      "source": [
        "##### DenseNet161"
      ]
    },
    {
      "cell_type": "code",
      "execution_count": null,
      "metadata": {
        "id": "ExaOaFc896Hq"
      },
      "outputs": [],
      "source": [
        "compute(\"DenseNet161_Pretrained[False]\", \"Backbone [BS 6]\", arch=densenet161, pretrained = False, bs=6)"
      ]
    },
    {
      "cell_type": "markdown",
      "metadata": {
        "id": "4HW7-y8M96Hr"
      },
      "source": [
        "##### DenseNet169"
      ]
    },
    {
      "cell_type": "code",
      "execution_count": null,
      "metadata": {
        "id": "QI9073Mw96Hr"
      },
      "outputs": [],
      "source": [
        "compute(\"DenseNet169_Pretrained[False]\", \"Backbone [BS 6]\", arch=densenet169, pretrained = False, bs=6)"
      ]
    },
    {
      "cell_type": "markdown",
      "metadata": {
        "id": "MCBNX8Xa96Hs"
      },
      "source": [
        "##### DenseNet201"
      ]
    },
    {
      "cell_type": "code",
      "execution_count": null,
      "metadata": {
        "id": "-tClV5bS96Hs"
      },
      "outputs": [],
      "source": [
        "compute(\"DenseNet201_Pretrained[False]\", \"Backbone [BS 6]\", arch=densenet201, pretrained = False, bs=6)"
      ]
    },
    {
      "cell_type": "markdown",
      "metadata": {
        "id": "-aui1Vg696Hn"
      },
      "source": [
        "##### ResNet50"
      ]
    },
    {
      "cell_type": "code",
      "execution_count": null,
      "metadata": {
        "id": "g3kYHBkt96Hn"
      },
      "outputs": [],
      "source": [
        "compute(\"ResNet50_Pretrained[False]\", \"Backbone [BS 6]\", arch=resnet50, pretrained = False, bs=6)"
      ]
    },
    {
      "cell_type": "markdown",
      "metadata": {
        "id": "jjGYmqIP96Hn"
      },
      "source": [
        "##### ResNet101"
      ]
    },
    {
      "cell_type": "code",
      "execution_count": null,
      "metadata": {
        "id": "uMSzW1dq96Hn"
      },
      "outputs": [],
      "source": [
        "compute(\"ResNet101_Pretrained[False]\", \"Backbone [BS 6]\", arch=resnet101, pretrained = False, bs=6)"
      ]
    },
    {
      "cell_type": "markdown",
      "metadata": {
        "id": "c5BekYNM96Hn"
      },
      "source": [
        "##### ResNet152"
      ]
    },
    {
      "cell_type": "code",
      "execution_count": null,
      "metadata": {
        "id": "2v8653_T96Hn"
      },
      "outputs": [],
      "source": [
        "compute(\"ResNet152_Pretrained[False]\", \"Backbone [BS 6]\", arch=resnet152, pretrained = False, bs=6)"
      ]
    },
    {
      "cell_type": "markdown",
      "metadata": {
        "id": "DwCX_dkY96Hp"
      },
      "source": [
        "##### SqueezeNet1_0"
      ]
    },
    {
      "cell_type": "code",
      "execution_count": null,
      "metadata": {
        "id": "rKv3TLB-96Hp"
      },
      "outputs": [],
      "source": [
        "compute(\"SqueezeNet1_0_Pretrained[False]\", \"Backbone [BS 6]\", arch=squeezenet1_0, pretrained = False, bs=6)"
      ]
    },
    {
      "cell_type": "markdown",
      "metadata": {
        "id": "cS4eWJXC96Hp"
      },
      "source": [
        "##### SqueezeNet1_1"
      ]
    },
    {
      "cell_type": "code",
      "execution_count": null,
      "metadata": {
        "id": "owyOIFQi96Hp"
      },
      "outputs": [],
      "source": [
        "compute(\"SqueezeNet1_1_Pretrained[False]\", \"Backbone [BS 6]\", arch=squeezenet1_1, pretrained = False, bs=6)"
      ]
    },
    {
      "cell_type": "markdown",
      "metadata": {
        "id": "jzKKFhgn96Hp"
      },
      "source": [
        "##### vgg11_bn"
      ]
    },
    {
      "cell_type": "code",
      "execution_count": null,
      "metadata": {
        "id": "PFbDlDol96Hp"
      },
      "outputs": [],
      "source": [
        "compute(\"vgg11_bn_Pretrained[False]\", \"Backbone [BS 6]\", arch=vgg11_bn, pretrained = False, bs=6)"
      ]
    },
    {
      "cell_type": "markdown",
      "metadata": {
        "id": "DEOA8jX796Hp"
      },
      "source": [
        "##### vgg13_bn"
      ]
    },
    {
      "cell_type": "code",
      "execution_count": null,
      "metadata": {
        "id": "ckNUuBld96Hp"
      },
      "outputs": [],
      "source": [
        "compute(\"vgg13_bn_Pretrained[False]\", \"Backbone [BS 6]\", arch=vgg13_bn, pretrained = False, bs=6)"
      ]
    },
    {
      "cell_type": "markdown",
      "metadata": {
        "id": "egT5BxqO96Hp"
      },
      "source": [
        "##### vgg16_bn"
      ]
    },
    {
      "cell_type": "code",
      "execution_count": null,
      "metadata": {
        "id": "nrrrFox996Hq"
      },
      "outputs": [],
      "source": [
        "compute(\"vgg16_bn_Pretrained[False]\", \"Backbone [BS 6]\", arch=vgg16_bn, pretrained = False, bs=6)"
      ]
    },
    {
      "cell_type": "markdown",
      "metadata": {
        "id": "pKZtS3OC96Hq"
      },
      "source": [
        "##### vgg19_bn"
      ]
    },
    {
      "cell_type": "code",
      "execution_count": null,
      "metadata": {
        "id": "LfwQLwka96Hq"
      },
      "outputs": [],
      "source": [
        "compute(\"vgg19_bn_Pretrained[False]\", \"Backbone [BS 6]\", arch=vgg19_bn, pretrained = False, bs=6)"
      ]
    },
    {
      "cell_type": "markdown",
      "metadata": {
        "id": "JWsGjNeY96Ho"
      },
      "source": [
        "##### XResNet18"
      ]
    },
    {
      "cell_type": "code",
      "execution_count": null,
      "metadata": {
        "id": "pLwjvQcW96Ho"
      },
      "outputs": [],
      "source": [
        "compute(\"XResNet18_Pretrained[False]\", \"Backbone [BS 6]\", arch=xresnet18, pretrained = False, bs=6)"
      ]
    },
    {
      "cell_type": "markdown",
      "metadata": {
        "id": "bxmoB0Iz96Ho"
      },
      "source": [
        "##### XResNet34"
      ]
    },
    {
      "cell_type": "code",
      "execution_count": null,
      "metadata": {
        "id": "VloXxFCA96Ho"
      },
      "outputs": [],
      "source": [
        "compute(\"XResNet34_Pretrained[False]\", \"Backbone [BS 6]\", arch=xresnet34, pretrained = False, bs=6)"
      ]
    },
    {
      "cell_type": "markdown",
      "metadata": {
        "id": "jXee3D_C96Ho"
      },
      "source": [
        "##### XResNet50 - NA"
      ]
    },
    {
      "cell_type": "code",
      "execution_count": null,
      "metadata": {
        "id": "8D4WHZZA96Ho"
      },
      "outputs": [],
      "source": [
        "compute(\"XResNet50_Pretrained[False]\", \"Backbone [BS 6]\", arch=xresnet50, pretrained = False, bs=6)"
      ]
    },
    {
      "cell_type": "markdown",
      "metadata": {
        "id": "Mj8_hSia96Ho"
      },
      "source": [
        "##### XResNet101"
      ]
    },
    {
      "cell_type": "code",
      "execution_count": null,
      "metadata": {
        "id": "r_tUaVbl96Ho"
      },
      "outputs": [],
      "source": [
        "compute(\"XResNet101_Pretrained[False]\", \"Backbone [BS 6]\", arch=xresnet101, pretrained = False, bs=6)"
      ]
    },
    {
      "cell_type": "markdown",
      "metadata": {
        "id": "5BwOdI3D96Ho"
      },
      "source": [
        "##### XResNet152"
      ]
    },
    {
      "cell_type": "code",
      "execution_count": null,
      "metadata": {
        "id": "OolDQQEe96Ho"
      },
      "outputs": [],
      "source": [
        "compute(\"XResNet152_Pretrained[False]\", \"Backbone [BS 6]\", arch=xresnet152, pretrained = False, bs=6)"
      ]
    }
  ],
  "metadata": {
    "accelerator": "GPU",
    "colab": {
      "collapsed_sections": [
        "01U81VYgNCXo",
        "yxK7bLUjuyob",
        "QJTYIGecbYqP",
        "-GjHElnlRq0-",
        "HmdJeDdTo8RH",
        "t9AZm4EgIwwc",
        "Rmi6dXA2o8RL",
        "kVEZ8Ljyo8RL",
        "F9Wa6RoGpkrX",
        "b7-jamiMpkrf",
        "jQqTX-N7I2ju",
        "RVSjrZ54pkrg",
        "HvRe6z14pkrh",
        "3E4WT-SjCRBE",
        "cSdzsODgCRBL",
        "RrtzACS-I9HL",
        "2AAz-Jd7CRBM",
        "pw7GE0KBCRBM",
        "l3zOAUWqFWzz",
        "PNYFXQsTk0vg",
        "Y7EmiUrv0tuZ",
        "nWJOuSK40tuY",
        "RGTkLFuM0tuZ",
        "DAH_9Jh60tuQ",
        "kuNtShKf0tuZ",
        "4j66oassRPfl",
        "qmuX_I8XRPfm",
        "vBPRonRkRPfm",
        "iv4fxpyeRPfn",
        "zgzyR0J8RPfn",
        "I9jTWAKvRPfo",
        "_Q4SQFEO1o_m",
        "aOg5nAfS1o_v",
        "nfqcBPDK1o_u",
        "Kko8JHHA1o_u",
        "H9sWgjCe1o_t",
        "eQp5gz2B1o_u",
        "lZvOQdGA1pOY",
        "IKPPJDQo1pOY",
        "7fOQvp9x1pOY",
        "pn8jcHwa1pOZ",
        "5UN3MK881pOZ",
        "LfuNRCeb1pOZ",
        "rZZZWwwn2t0M",
        "ZDJObX1yIBIr",
        "6HuH1wQoosL7",
        "v9ktmyrnot5Z",
        "RS8CiRcpovOz",
        "rzbNUB1LovuC",
        "KkG5W91X5s_O",
        "mYPWfMjvozL9",
        "hkdJNnie53GK",
        "i1-mc5Who0DG",
        "ns7WRkzg6A83",
        "bSd3Gaw_o09q",
        "CLjkGwFF6WAO",
        "ZcIpE04o6eku",
        "zfyKX4V06nIH",
        "wxVwu6IzpItY",
        "jzjOvAXipH7A",
        "DuX509IApJBA",
        "GIhL_bH8pJ15",
        "FIjmMk-n67-P",
        "R46iNqyUpKBx",
        "HQkAgbnw7Dos",
        "CD3uXkVBpK-N",
        "tcnDvg3dpLWZ",
        "rJIUIgi6pLys",
        "BnMptDLq7Q0T",
        "DCAC9_-OpMfu",
        "kwlzcwnbpMGC",
        "TCbOx7SZpNvE",
        "FiYnfEIc7THs",
        "kr5kWL-U7TX7",
        "GQvZ5CuM7VDM",
        "e-xcVfYspPB0",
        "zb7yRx1R7-CT",
        "i6oiAZTw8Dyz",
        "NVgymuXqpPX7",
        "-WWuMM3gWqqr",
        "SJh61LSZpXE3",
        "qhhU09BwpXlw",
        "owMO7zpcpYZ_",
        "PoP6_IzypYxA",
        "vH_6AOxSpY84",
        "6-8GoEz9pZOg",
        "TAUTchKZpZZQ",
        "QfzTs8rPpZlw",
        "MLRkO13epZ5A",
        "i7RvTeO6paEJ",
        "0_FtXvUspaYJ",
        "RvsGFpdtpaix",
        "kHFbjgkkpa0K",
        "e3brt4uspa9R",
        "o0Px4ETcpbRi",
        "k1-vaQanpb8h",
        "G5s2JJjqpcha",
        "8Ti5_Qp4pcqS",
        "AP8iA48EpdXi",
        "yEKinP9IpdjC",
        "HvVJJFaypd2q",
        "S4FDY-gQpeCb",
        "d_9hN2rTpeOC",
        "STcOps5ipeeD",
        "5zIqP7c-1DNG",
        "HnQqVozUDtjm",
        "mL0R-WuADtjm",
        "kGsvzuxUDtjm",
        "9cV0FPi8Dtjn",
        "XqTWit_0Dtjn",
        "UIwxGkGbDtjo",
        "OmXBr8UPDtjo",
        "siBfQUoLDtjp",
        "2haVZUTPDtjp",
        "bx5nBaZQDtjp",
        "gEFuSTQjDtjp",
        "KvZ_JXnLDtjq",
        "cYy_uY_CDtjq",
        "m5bNcQrmDtjq",
        "XE-SqOZRDtjr",
        "OVDHPzjgDtjr",
        "2nCDdg1dDtjr",
        "mpsBiWwDDtjr",
        "cd8LyYisDtjs",
        "Y0j6HZ5xDtjs",
        "_Z7C3DB5Dtjs",
        "yIIkUC9oDtjs",
        "AWn8lk5LDtjt",
        "EdtfyWGpDtjt",
        "Gk83FXKrDtjt",
        "2CghAHSTDtjt",
        "RxOteSvkDtju",
        "WpogNNtkDtjv",
        "roZUbWrxDtjv",
        "GqqCzsiuDtjw",
        "OFgkv06kDtjw",
        "g2O5VzmFDtjw",
        "-OqGJsoYDtjw",
        "hIsuKlh4Dtjx",
        "2WVbWvgfDtjx",
        "fI5IZgPdDtjx",
        "mZhMWwawDtjy",
        "JzDaXrOlDtjy",
        "NaHQUIecDtjy",
        "TEaAgDiB1DNG",
        "vb9BwY4C1I6k",
        "iqucdMaj1I6k",
        "_XJy2Wag1I6k",
        "VwxAdI5t1I6k",
        "Ifz9U-wM1I6l",
        "BkvVMHDd1I6l",
        "N6D_TtLH1I6l",
        "ks_8ioyl1I6l",
        "4ZuQ9X0X1I6l",
        "gtuHtfQu1I6n",
        "RPvBARnc1I6n",
        "l35Uuc7w1I6n",
        "c9nRAtkr1I6n",
        "4GUy-8V81I6n",
        "mBodEHLG1I6o",
        "gAottENo1I6o",
        "el0AbNVM1I6o",
        "pl2_iwHc1I6o",
        "BBeAga7f1I6o",
        "knFcydat1I6o",
        "niHrUvpI1I6p",
        "tzfDaL9n1I6p",
        "eJi0YhxB1I6p",
        "gTkYzpWO1I6p",
        "uLZum-au1I6p",
        "ZtRZ0iAS1I6q",
        "f_U8JJ8F1I6q",
        "LqgsdF1d1I6q",
        "Tg0qKioc1I6q",
        "WVru7sUW1I6q",
        "ehyuXQon1I6q",
        "wgYo6x8H1I6r",
        "7Q4QrgVg1I6r",
        "qo8AVp8w1I6r",
        "ult1B-pZ1I6r",
        "ItWtGXRh1I6r",
        "k7hbstZs1I6s",
        "cyJb1NVQ1I6s",
        "jMt9BrGU1I6s",
        "xx6viuIF1DNH",
        "CFRiuvUX96HU",
        "K1umyDk-96HU",
        "-HcnIpS396HV",
        "o1gjiWKg96HV",
        "IUGlWUT396HV",
        "j2-UUwjV96HV",
        "90aYeGib96HW",
        "fE0vNux096HW",
        "PiFh1jno96HW",
        "feQDmcOJ96HW",
        "TxqWeZvy96HX",
        "3d_HxSJ296HX",
        "PVac8C1596HX",
        "-xmPZenf96HX",
        "Molan3Hg96HY",
        "ctVbChj-96HY",
        "sqed3Ydl96HY",
        "mkicdZ8P96HY",
        "0eGyy0Bw96HZ",
        "aSJ-1aR896HZ",
        "W6Aw0V9v96HZ",
        "0ZKof7h896HZ",
        "3q5NE3rw96Ha",
        "cwg2ALqN96Ha",
        "_t0rbaF396Ha",
        "tOgLErYX96Ha",
        "VCHZFyUo96Hb",
        "oQkgWUl896Hb",
        "GL5ZMeH_96Hc",
        "JAzNtXmI96Hc",
        "tkTLwSoI96Hc",
        "ZifAJwEd96Hd",
        "a0eEavzb96Hd",
        "5AyCiTOR96Hd",
        "TNYu-Ul696Hd",
        "xYw3U37U96He",
        "KH0EJQc896He",
        "q8aVZCBH96He",
        "9H7z3uq496He",
        "-8MX3e2_1Pf9",
        "qJtggysE96Hl",
        "506-lMgb96Hg",
        "n4AEucOF96Hm",
        "C636RoEA96Hm",
        "5jfYxdXc96Hm",
        "8lqKkniw96Hf",
        "uMOD9Ogd96Hf",
        "mmFy3r4_96Hl",
        "47sXY7zN96Hl",
        "MZI6gM7D96Hg",
        "-Xr2tAzQ96Hg",
        "1Zhw4W_u96Hk",
        "OtEFrdVY96Hk",
        "VLCZ26kN96Hk",
        "7Zp-gp4f96Hk",
        "5pkeJhPq96Hl",
        "skKAAUmR96Hq",
        "cXXceTZA96Hq",
        "WMzaHsQz96Hq",
        "4HW7-y8M96Hr",
        "MCBNX8Xa96Hs",
        "O9jIoq0696Hm",
        "5zklW2T596Hn",
        "-aui1Vg696Hn",
        "jjGYmqIP96Hn",
        "c5BekYNM96Hn",
        "cS4eWJXC96Hp",
        "jzKKFhgn96Hp",
        "DEOA8jX796Hp",
        "egT5BxqO96Hp",
        "pKZtS3OC96Hq",
        "JWsGjNeY96Ho",
        "bxmoB0Iz96Ho",
        "jXee3D_C96Ho",
        "Mj8_hSia96Ho",
        "5BwOdI3D96Ho",
        "umvA0Onx1DNH",
        "oaS661W996Hs",
        "eUapwoRG96Ht",
        "1vbbWWV396Ht",
        "T9B0K87Q96Ht",
        "nKO0er_r96Ht",
        "rmfbPAxD96Hu",
        "y2dAnpGE96Hu",
        "DCkSPpqS96Hv",
        "ourntmmM96Hv",
        "IsZAXJrZ96Hv",
        "7ut-IxQj96Hv",
        "7j9Xlixf96Hv",
        "PNgDMoYl96Hw",
        "qv6qeu7b96Hw",
        "oYc8Lgfz96Hw",
        "dbyOpDcT96Hw",
        "FK_CFKJ596Hw",
        "VEyekA9U96Hx",
        "XXjVvP3q96Hx",
        "g7XAlXlA96Hx",
        "zTHIrgjv96Hx",
        "xcCFjuyo96Hx",
        "SkPEwlvJ96Hy",
        "fLbkdFco96Hy",
        "4LSJPtw896Hy",
        "fE5h5PK696Hy",
        "UKuR79kq96Hy",
        "waLr7SXa96Hz",
        "sbxzALYa96Hz",
        "ZJLWJn9g96Hz",
        "zm4jC_X796Hz",
        "uAow33Rd96Hz",
        "lusbdrVv96Hz",
        "YgBT7taw96H0",
        "Hx_B9BLG96H0",
        "dzehr06696H0",
        "aGENc5Na1DNI",
        "lN891aVe96H1",
        "faOg2l4X96H1",
        "s8noKZUb96H1",
        "Ek6lRxBu96H1",
        "62v41krz96H2",
        "RTp-yCfv96H4",
        "ilIR_k3496H4",
        "Z3N5xclp96H4",
        "gqW95qrM96H4",
        "aJPGlc6E96H4",
        "VgjOOtnF96H5",
        "E47165qa96H5",
        "it3agF-G96H5",
        "9zkoFP-P96H5",
        "IlcuFqHR96H6",
        "Y17zt6CD96H6",
        "6W17k6oO96H6",
        "yneUFB8J96H6",
        "UstyScH296H7",
        "dfd0Gqol96H7",
        "b-nq_CaA96H7",
        "RWRsg3-p96H7",
        "Fy0xn3Ml96H8",
        "tTq3bcQk96H8",
        "7bMdUP1b96H9",
        "GrdkbENw96H9",
        "yB_qmA-c96H9",
        "2n_AK_i496H9",
        "mxAuXmaG96H9",
        "SBxSjzPS96H9",
        "QITjH9l996H-",
        "AcSxejwX96H-",
        "ZoNeMP6x96H-",
        "_hZ2GcF296H-",
        "EKhcMWO796H-",
        "8-qTx1-y96H_",
        "HNN8mlOx96H_",
        "1EqCKGqF96H_",
        "H6YEaEHy0zEP",
        "v9OhbR-o0zEQ",
        "IhoaCSGm0zEQ",
        "7Frmtvwd0zER",
        "blAiB0ih0zER",
        "aA7p_sXC0zES",
        "eEevwoOa0zES",
        "eSQcqoRi0zES",
        "YOEquBMr0zES",
        "T2-ZC7UN0zET",
        "RZnMA5nk0zEV",
        "NjkmbAds0zEV",
        "CQ8SQjbQ0zEV",
        "cegaRPpj0zEV",
        "dX7PwVI_0zEW",
        "-fwt_e-b0zEW",
        "GOoTZTDV0zEW",
        "rL6_rLc40zEX",
        "08rzteuk0zEX",
        "nxwXLPBf0zEX",
        "bT7MFUQX0zEX",
        "gplJB_jy0zEX",
        "FDl0lco30zEY",
        "MlnPGRNM0zEY",
        "2W4VT5IQ0zEY",
        "nVl33IYg0zEY",
        "1D_HSbW60zEY",
        "DSjoVwOA0zEZ",
        "LcLrcGz60zEZ",
        "GAQar-hLdYZn",
        "Rbr-zWVn5V_i",
        "gEhV3Ni45bFB",
        "5HQo9E_rq_ek",
        "F8YWZZ_YTnsN",
        "R72ydZ0Q6_Q4",
        "v7F1OsTn7K6w",
        "x0YYeiUc7LBL",
        "sUBjAOAa7PcJ",
        "0rNx2ofw7PcK",
        "YTBgUA9lFrMU",
        "gexz84deF2N_",
        "C57oajjFGZ0h",
        "EXgEqBNqGbOs",
        "MrPGHJopGb_D",
        "Tufd6tVnGcsD",
        "R6HwA34aG0wn",
        "eSJvV_WpG1MM",
        "riqfcjWMHCMq",
        "cze9h1XfbLJB",
        "jtuua6jV9dFB",
        "KEI0qR477tsT"
      ],
      "name": "Paper_CamoNet.ipynb",
      "provenance": [],
      "include_colab_link": true
    },
    "kernelspec": {
      "display_name": "Python 3",
      "name": "python3"
    },
    "language_info": {
      "name": "python"
    }
  },
  "nbformat": 4,
  "nbformat_minor": 0
}