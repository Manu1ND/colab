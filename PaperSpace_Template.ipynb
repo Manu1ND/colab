{
  "cells": [
    {
      "cell_type": "markdown",
      "metadata": {
        "id": "view-in-github",
        "colab_type": "text"
      },
      "source": [
        "<a href=\"https://colab.research.google.com/github/Manu1ND/colab/blob/main/PaperSpace_Template.ipynb\" target=\"_parent\"><img src=\"https://colab.research.google.com/assets/colab-badge.svg\" alt=\"Open In Colab\"/></a>"
      ]
    },
    {
      "cell_type": "code",
      "execution_count": null,
      "metadata": {
        "gradient": {
          "editing": false,
          "id": "dc046bf9-1f4c-4faa-96a2-aca4d2eb7bc0",
          "kernelId": "f0c3e844-072c-4258-bdad-02646588e81f"
        },
        "id": "9AOt22AN7Lmb"
      },
      "outputs": [],
      "source": [
        "!pip install fastai -q --upgrade\n",
        "!pip install --upgrade albumentations\n",
        "!apt-get install zip unzip\n",
        "!pip install gdown"
      ]
    },
    {
      "cell_type": "code",
      "source": [
        "import gdown\n",
        "import os\n",
        "import pandas as pd\n",
        "gdown.download('https://drive.google.com/u/1/uc?id=1PsX8ULvWg-peKtUduyTqkyxfxXoom13S', './owl.zip', quiet=False)\n",
        "!unzip ./owl.zip\n",
        "!rm ./owl.zip"
      ],
      "metadata": {
        "id": "ZLNZKPKMOi4Y"
      },
      "execution_count": null,
      "outputs": []
    },
    {
      "cell_type": "markdown",
      "metadata": {
        "gradient": {
          "editing": false,
          "id": "a9e9ad65-a851-4ed3-a99a-4a244a601be3",
          "kernelId": "f0c3e844-072c-4258-bdad-02646588e81f"
        },
        "id": "01U81VYgNCXo"
      },
      "source": [
        "# Specs"
      ]
    },
    {
      "cell_type": "code",
      "execution_count": 8,
      "metadata": {
        "colab": {
          "base_uri": "https://localhost:8080/"
        },
        "gradient": {
          "editing": false,
          "id": "19fa778a-a09c-449e-a2a5-a1a7b53049e6",
          "kernelId": "f0c3e844-072c-4258-bdad-02646588e81f"
        },
        "id": "1i5YVreV6Omh",
        "outputId": "09ec9b7c-4559-433b-8eb3-aa779a1696ad"
      },
      "outputs": [
        {
          "output_type": "stream",
          "name": "stdout",
          "text": [
            "Fri Feb 11 10:02:13 2022       \n",
            "+-----------------------------------------------------------------------------+\n",
            "| NVIDIA-SMI 460.32.03    Driver Version: 460.32.03    CUDA Version: 11.2     |\n",
            "|-------------------------------+----------------------+----------------------+\n",
            "| GPU  Name        Persistence-M| Bus-Id        Disp.A | Volatile Uncorr. ECC |\n",
            "| Fan  Temp  Perf  Pwr:Usage/Cap|         Memory-Usage | GPU-Util  Compute M. |\n",
            "|                               |                      |               MIG M. |\n",
            "|===============================+======================+======================|\n",
            "|   0  Tesla K80           Off  | 00000000:00:04.0 Off |                    0 |\n",
            "| N/A   31C    P8    28W / 149W |      0MiB / 11441MiB |      0%      Default |\n",
            "|                               |                      |                  N/A |\n",
            "+-------------------------------+----------------------+----------------------+\n",
            "                                                                               \n",
            "+-----------------------------------------------------------------------------+\n",
            "| Processes:                                                                  |\n",
            "|  GPU   GI   CI        PID   Type   Process name                  GPU Memory |\n",
            "|        ID   ID                                                   Usage      |\n",
            "|=============================================================================|\n",
            "|  No running processes found                                                 |\n",
            "+-----------------------------------------------------------------------------+\n"
          ]
        }
      ],
      "source": [
        "  !nvidia-smi"
      ]
    },
    {
      "cell_type": "code",
      "execution_count": 9,
      "metadata": {
        "gradient": {
          "editing": false,
          "id": "911186da-98e2-4dae-a1a6-95f0f75b7261",
          "kernelId": "f0c3e844-072c-4258-bdad-02646588e81f"
        },
        "id": "QmI6XenmMp-X"
      },
      "outputs": [],
      "source": [
        "import warnings\n",
        "warnings.filterwarnings('ignore')"
      ]
    },
    {
      "cell_type": "markdown",
      "metadata": {
        "gradient": {
          "editing": false,
          "id": "113decd2-deb1-4984-b6b8-ebc2e0af8c41",
          "kernelId": "f0c3e844-072c-4258-bdad-02646588e81f"
        },
        "id": "g6lbrhPsboa7"
      },
      "source": [
        "# Import dependencies"
      ]
    },
    {
      "cell_type": "code",
      "execution_count": 10,
      "metadata": {
        "gradient": {
          "editing": false,
          "id": "27d80902-5706-42db-965a-67ef65e37c00",
          "kernelId": "f0c3e844-072c-4258-bdad-02646588e81f"
        },
        "id": "bUQ-PWSVzAvt"
      },
      "outputs": [],
      "source": [
        "from fastai.vision.all import *\n",
        "import gdown\n",
        "import os\n",
        "import pandas as pd"
      ]
    },
    {
      "cell_type": "markdown",
      "metadata": {
        "gradient": {
          "editing": false,
          "id": "80d3ea1a-af91-42bc-af7a-0913ccd437a7",
          "kernelId": "f0c3e844-072c-4258-bdad-02646588e81f"
        },
        "id": "m9zFwG9ibdAP"
      },
      "source": [
        "# Preprocessing"
      ]
    },
    {
      "cell_type": "code",
      "execution_count": 11,
      "metadata": {
        "gradient": {
          "editing": false,
          "id": "8b5a1ac3-861e-4f42-a812-cc898d928089",
          "kernelId": "f0c3e844-072c-4258-bdad-02646588e81f"
        },
        "id": "VPQ3fgo-i3l2"
      },
      "outputs": [],
      "source": [
        "seed = 1000\n",
        "\n",
        "def seed_everything(seed = seed):\n",
        "    random.seed(seed)\n",
        "    os.environ['PYTHONHASHSEED'] = str(seed)\n",
        "    np.random.seed(seed)\n",
        "    torch.manual_seed(seed)\n",
        "    torch.cuda.manual_seed_all(seed)\n",
        "    torch.backends.cudnn.deterministic = True\n",
        "    torch.backends.cudnn.benchmark = False\n",
        "\n",
        "seed_everything()"
      ]
    },
    {
      "cell_type": "code",
      "execution_count": 12,
      "metadata": {
        "gradient": {
          "editing": false,
          "id": "5c99cda8-a387-418a-991e-a08028aa3243",
          "kernelId": "f0c3e844-072c-4258-bdad-02646588e81f"
        },
        "id": "UiCDyGMoJhwY"
      },
      "outputs": [],
      "source": [
        "path = Path('./Dataset_OWL_COD10K_v3/')\n",
        "train_images = path/'Train/Image'\n",
        "train_labels = path/'Train/GT'\n",
        "test_name = \"Test\"\n",
        "test_images = path/test_name/'Image'\n",
        "test_labels = path/test_name/'GT'"
      ]
    },
    {
      "cell_type": "code",
      "execution_count": 13,
      "metadata": {
        "gradient": {
          "editing": false,
          "id": "efe1f52f-ae40-4132-8a93-8bc38ddd1191",
          "kernelId": "f0c3e844-072c-4258-bdad-02646588e81f"
        },
        "id": "s6WddT_XopB9"
      },
      "outputs": [],
      "source": [
        "def get_y_fn(x): \n",
        "  return Path(str(x).replace(\"Image\",\"GT\").replace(\".jpg\",\".png\"))"
      ]
    },
    {
      "cell_type": "code",
      "execution_count": 14,
      "metadata": {
        "gradient": {
          "editing": false,
          "id": "a559b3e2-1787-42cd-8804-626fd27e2da6",
          "kernelId": "f0c3e844-072c-4258-bdad-02646588e81f"
        },
        "id": "1XN5GnhJg2Nz"
      },
      "outputs": [],
      "source": [
        "def ParentSplitter(x):\n",
        "    return Path(x).parent.name==test_name"
      ]
    },
    {
      "cell_type": "code",
      "execution_count": 15,
      "metadata": {
        "colab": {
          "base_uri": "https://localhost:8080/"
        },
        "gradient": {
          "editing": false,
          "id": "2b7d6b5e-1837-48ff-93c1-28abd3492aa6",
          "kernelId": "f0c3e844-072c-4258-bdad-02646588e81f"
        },
        "id": "iRg6ffySjJ63",
        "outputId": "2b9dd62a-4bfc-4941-f0a1-8b977f2ba120"
      },
      "outputs": [
        {
          "output_type": "stream",
          "name": "stdout",
          "text": [
            "{'background': 0, 'owl': 1}\n"
          ]
        }
      ],
      "source": [
        "codes = ['background','owl']\n",
        "name2id = {v:k for k,v in enumerate(codes)}\n",
        "print(name2id)\n",
        "void_code = name2id['owl']"
      ]
    },
    {
      "cell_type": "code",
      "execution_count": 16,
      "metadata": {
        "gradient": {
          "editing": false,
          "id": "e999b790-10d4-41a3-830b-c7aaec2186ec",
          "kernelId": "f0c3e844-072c-4258-bdad-02646588e81f"
        },
        "id": "_CswkPGyoiIA"
      },
      "outputs": [],
      "source": [
        "def foreground_acc(input, target):\n",
        "    target = cast(target.squeeze(1), TensorBase)\n",
        "    mask = target != void_code\n",
        "    return (input.argmax(dim=1)[mask]==target[mask]).float().mean()"
      ]
    },
    {
      "cell_type": "code",
      "execution_count": 17,
      "metadata": {
        "gradient": {
          "editing": false,
          "id": "ebd964b2-0060-4f05-b435-16d33a502ee3",
          "kernelId": "f0c3e844-072c-4258-bdad-02646588e81f"
        },
        "id": "BrlqRf00Qadm"
      },
      "outputs": [],
      "source": [
        "class SegmentationAlbumentationsTransform(ItemTransform):\n",
        "    split_idx = 0\n",
        "    def __init__(self, aug): \n",
        "        self.aug = aug\n",
        "    def encodes(self, x):\n",
        "        img,mask = x\n",
        "        aug = self.aug(image=np.array(img), mask=np.array(mask))\n",
        "        return PILImage.create(aug[\"image\"]), PILMask.create(aug[\"mask\"])"
      ]
    },
    {
      "cell_type": "code",
      "execution_count": 18,
      "metadata": {
        "gradient": {
          "editing": false,
          "id": "7adef4e1-9bb2-4096-ad18-73a1fa02147a",
          "kernelId": "f0c3e844-072c-4258-bdad-02646588e81f"
        },
        "id": "9OcwhMJgQcPq"
      },
      "outputs": [],
      "source": [
        "class TargetMaskConvertTransform(ItemTransform):\n",
        "    def __init__(self): \n",
        "        pass\n",
        "    def encodes(self, x):\n",
        "        img,mask = x\n",
        "        mask = np.array(mask)\n",
        "        mask[mask==255]=1\n",
        "        mask = PILMask.create(mask)\n",
        "        return img, mask"
      ]
    },
    {
      "cell_type": "markdown",
      "metadata": {
        "gradient": {
          "editing": false,
          "id": "a2aa23b3-f328-4dfb-b1aa-1d1dfaf67cf1",
          "kernelId": "f0c3e844-072c-4258-bdad-02646588e81f"
        },
        "id": "yxK7bLUjuyob"
      },
      "source": [
        "# Compute Method"
      ]
    },
    {
      "cell_type": "markdown",
      "metadata": {
        "gradient": {
          "editing": false,
          "id": "42530e72-dc27-4172-a4e4-e5b1becd251d",
          "kernelId": "f0c3e844-072c-4258-bdad-02646588e81f"
        },
        "id": "Gsbtw3nugokf"
      },
      "source": [
        "## Constant"
      ]
    },
    {
      "cell_type": "code",
      "execution_count": 19,
      "metadata": {
        "gradient": {
          "editing": false,
          "id": "ae129fde-a333-41d3-ae90-7090cd8d2582",
          "kernelId": "f0c3e844-072c-4258-bdad-02646588e81f"
        },
        "id": "2-u_staXFjZB"
      },
      "outputs": [],
      "source": [
        "size = 224\n",
        "bs = 6\n",
        "splitter = RandomSplitter(valid_pct=0.2, seed=seed)\n",
        "item_tfms = [Resize((size,size)), TargetMaskConvertTransform()]\n",
        "batch_tfms = []\n",
        "arch = resnet34\n",
        "pretrained=True\n",
        "metrics = [foreground_acc, Dice(), JaccardCoeff()]\n",
        "act_cls = nn.ReLU\n",
        "self_attention = False\n",
        "lr = 1e-3\n",
        "wd = None\n",
        "epochs = 200"
      ]
    },
    {
      "cell_type": "code",
      "execution_count": 20,
      "metadata": {
        "gradient": {
          "editing": false,
          "id": "a0846337-eed1-4ad0-86ef-709dfb7bf424",
          "kernelId": "f0c3e844-072c-4258-bdad-02646588e81f"
        },
        "id": "jZEqOLA_XUTp"
      },
      "outputs": [],
      "source": [
        "monitor_training = \"valid_loss\"\n",
        "comp_training = np.less\n",
        "\n",
        "monitor_evaluating = \"dice\"\n",
        "comp_evaluating = np.greater\n",
        "\n",
        "patience = 50"
      ]
    },
    {
      "cell_type": "code",
      "execution_count": 21,
      "metadata": {
        "gradient": {
          "editing": false,
          "id": "8bd26781-808c-4bf4-8fc0-e0e8ae0dac16",
          "kernelId": "f0c3e844-072c-4258-bdad-02646588e81f"
        },
        "id": "FIyFCogZSI27"
      },
      "outputs": [],
      "source": [
        "# Import csv or make new dataframe\n",
        "if os.path.isfile(\"result.csv\"):\n",
        "  result_df = pd.read_csv(\"result.csv\", header=[0,1], index_col=[0,1])\n",
        "else:\n",
        "  col_names = [('method_type',''), ('method_name',''), ('Training','valid_loss'),(\"Training\",'foreground_acc'),(\"Training\",'dice'),('Training','jaccard_coeff'),('Testing','valid_loss'),(\"Testing\",'foreground_acc'),(\"Testing\",'dice'),('Testing','jaccard_coeff')]\n",
        "  col_list = pd.MultiIndex.from_tuples(col_names)\n",
        "  result_df = pd.DataFrame(columns = col_list).set_index([('method_type'), ('method_name')])\n",
        "\n",
        "result_df = result_df.sort_index(0)"
      ]
    },
    {
      "cell_type": "markdown",
      "metadata": {
        "gradient": {
          "editing": false,
          "id": "ea12a031-3912-4026-a9a9-438ee2551964",
          "kernelId": "f0c3e844-072c-4258-bdad-02646588e81f"
        },
        "id": "q-p1gckIrurS"
      },
      "source": [
        "## Compute Function"
      ]
    },
    {
      "cell_type": "code",
      "execution_count": 22,
      "metadata": {
        "gradient": {
          "editing": false,
          "id": "cc22c2e1-a923-45cb-9d1f-eba723da8e11",
          "kernelId": "f0c3e844-072c-4258-bdad-02646588e81f"
        },
        "id": "lkeh9fzfkaKN"
      },
      "outputs": [],
      "source": [
        "def compute(method_name, method_type, size = size, splitter=splitter, item_tfms = item_tfms, batch_tfms = batch_tfms, bs = bs, arch = arch, pretrained = pretrained, metrics = metrics,\n",
        "            act_cls = act_cls, self_attention = self_attention, lr = lr, wd = wd, epochs = epochs, patience = patience):\n",
        "  \n",
        "  if(len(batch_tfms)):\n",
        "    transformPipeline = Compose(batch_tfms,p=1)\n",
        "    transformPipeline = SegmentationAlbumentationsTransform(transformPipeline)\n",
        "    item_tfms.append(transformPipeline)\n",
        "\n",
        "  callbacksFitBeforeUnfreeze = [\n",
        "    ShowGraphCallback(),\n",
        "    EarlyStoppingCallback(monitor = monitor_training, comp = comp_training, patience = patience),\n",
        "    SaveModelCallback(monitor = monitor_training, comp = comp_training, every_epoch = False, fname = method_name)  \n",
        "  ]\n",
        "  \n",
        "  dblock = DataBlock(blocks = (ImageBlock, MaskBlock(codes)),\n",
        "                  get_items = get_image_files,\n",
        "                  splitter = splitter,\n",
        "                  get_y = get_y_fn,\n",
        "                  item_tfms = item_tfms,\n",
        "                  batch_tfms = [Normalize.from_stats(*imagenet_stats)]\n",
        "                  )\n",
        "  \n",
        "  dls = dblock.dataloaders(train_images, bs=bs, num_workers=0)\n",
        "\n",
        "  seed_everything()\n",
        "\n",
        "  learn = unet_learner(dls, arch, pretrained = pretrained, metrics = metrics, wd=wd,\n",
        "                       act_cls = act_cls, self_attention = self_attention)\n",
        "\n",
        "  if(lr):\n",
        "    learn.fit_one_cycle(epochs, lr, cbs=callbacksFitBeforeUnfreeze)\n",
        "  else:\n",
        "    lr = learn.lr_find()\n",
        "    print(\"~~~~~~~~~~~~~~~~~~~~~~~~~Learning Rate~~~~~~~~~~~~~~~~~~~~~~~~~\")\n",
        "    print(lr[0].item())\n",
        "    learn.fit_one_cycle(epochs, lr[0].item(), cbs=callbacksFitBeforeUnfreeze)\n",
        "\n",
        "  # learn.load(method_name)\n",
        "  # learn.unfreeze()\n",
        "  # lr = learn.lr_find()\n",
        "  # learn.fit_one_cycle(25, slice(lr[0].item()),cbs=callbacksFitBeforeUnfreeze)\n",
        "\n",
        "  print(\"~~~~~~~~~~~~~~~~~~~~~~~~~Training Result~~~~~~~~~~~~~~~~~~~~~~~~~\")\n",
        "  train_validate = learn.validate()\n",
        "  print(train_validate)\n",
        "\n",
        "  test_img = get_image_files(test_images)\n",
        "  dl = learn.dls.test_dl(test_img, with_labels=True)\n",
        "  print(\"~~~~~~~~~~~~~~~~~~~~~~~~~Testing Result~~~~~~~~~~~~~~~~~~~~~~~~~~\")\n",
        "  test_validate = learn.validate(dl=dl)\n",
        "  print(test_validate)\n",
        "  \n",
        "  result_df.loc[(method_type, method_name), :] = train_validate + test_validate\n",
        "  #result_df.to_csv('result.csv')\n",
        "  result_df.to_csv(f'result.csv')\n",
        "\n",
        "  # Delete pth file\n",
        "  !rm -rf ./models\n",
        "\n",
        "  return learn"
      ]
    },
    {
      "cell_type": "markdown",
      "metadata": {
        "gradient": {
          "editing": false,
          "id": "dddd65b5-789a-4e33-890e-2cd7b61351a4",
          "kernelId": "f0c3e844-072c-4258-bdad-02646588e81f"
        },
        "id": "fmfr6Tviutfm"
      },
      "source": [
        "# Experiments"
      ]
    },
    {
      "cell_type": "markdown",
      "metadata": {
        "id": "5UN3MK881pOZ"
      },
      "source": [
        "#### Reflection"
      ]
    },
    {
      "cell_type": "code",
      "execution_count": null,
      "metadata": {
        "id": "DOzFzhJ01pOZ",
        "outputId": "9160a6c0-4abd-4748-c1d8-affa744bb166",
        "colab": {
          "base_uri": "https://localhost:8080/",
          "height": 654
        }
      },
      "outputs": [
        {
          "output_type": "display_data",
          "data": {
            "text/html": [
              "\n",
              "    <div>\n",
              "        <style>\n",
              "            /* Turns off some styling */\n",
              "            progress {\n",
              "                /* gets rid of default border in Firefox and Opera. */\n",
              "                border: none;\n",
              "                /* Needs to be in here for Safari polyfill so background images work as expected. */\n",
              "                background-size: auto;\n",
              "            }\n",
              "            .progress-bar-interrupted, .progress-bar-interrupted::-webkit-progress-bar {\n",
              "                background: #F44336;\n",
              "            }\n",
              "        </style>\n",
              "      <progress value='7' class='' max='200' style='width:300px; height:20px; vertical-align: middle;'></progress>\n",
              "      3.50% [7/200 08:32<3:55:17]\n",
              "    </div>\n",
              "    \n",
              "<table border=\"1\" class=\"dataframe\">\n",
              "  <thead>\n",
              "    <tr style=\"text-align: left;\">\n",
              "      <th>epoch</th>\n",
              "      <th>train_loss</th>\n",
              "      <th>valid_loss</th>\n",
              "      <th>foreground_acc</th>\n",
              "      <th>dice</th>\n",
              "      <th>jaccard_coeff</th>\n",
              "      <th>time</th>\n",
              "    </tr>\n",
              "  </thead>\n",
              "  <tbody>\n",
              "    <tr>\n",
              "      <td>0</td>\n",
              "      <td>0.302094</td>\n",
              "      <td>0.290769</td>\n",
              "      <td>0.999845</td>\n",
              "      <td>0.000000</td>\n",
              "      <td>0.000000</td>\n",
              "      <td>01:12</td>\n",
              "    </tr>\n",
              "    <tr>\n",
              "      <td>1</td>\n",
              "      <td>0.250737</td>\n",
              "      <td>0.166183</td>\n",
              "      <td>0.994493</td>\n",
              "      <td>0.293654</td>\n",
              "      <td>0.172095</td>\n",
              "      <td>01:12</td>\n",
              "    </tr>\n",
              "    <tr>\n",
              "      <td>2</td>\n",
              "      <td>0.205652</td>\n",
              "      <td>0.143059</td>\n",
              "      <td>0.991535</td>\n",
              "      <td>0.665742</td>\n",
              "      <td>0.498960</td>\n",
              "      <td>01:12</td>\n",
              "    </tr>\n",
              "    <tr>\n",
              "      <td>3</td>\n",
              "      <td>0.172186</td>\n",
              "      <td>0.170389</td>\n",
              "      <td>0.996145</td>\n",
              "      <td>0.665930</td>\n",
              "      <td>0.499171</td>\n",
              "      <td>01:12</td>\n",
              "    </tr>\n",
              "    <tr>\n",
              "      <td>4</td>\n",
              "      <td>0.167155</td>\n",
              "      <td>0.128153</td>\n",
              "      <td>0.974528</td>\n",
              "      <td>0.738072</td>\n",
              "      <td>0.584877</td>\n",
              "      <td>01:12</td>\n",
              "    </tr>\n",
              "    <tr>\n",
              "      <td>5</td>\n",
              "      <td>0.151648</td>\n",
              "      <td>0.125332</td>\n",
              "      <td>0.991748</td>\n",
              "      <td>0.723809</td>\n",
              "      <td>0.567164</td>\n",
              "      <td>01:12</td>\n",
              "    </tr>\n",
              "    <tr>\n",
              "      <td>6</td>\n",
              "      <td>0.141637</td>\n",
              "      <td>0.213158</td>\n",
              "      <td>0.999179</td>\n",
              "      <td>0.496566</td>\n",
              "      <td>0.330288</td>\n",
              "      <td>01:12</td>\n",
              "    </tr>\n",
              "  </tbody>\n",
              "</table><p>\n",
              "\n",
              "    <div>\n",
              "        <style>\n",
              "            /* Turns off some styling */\n",
              "            progress {\n",
              "                /* gets rid of default border in Firefox and Opera. */\n",
              "                border: none;\n",
              "                /* Needs to be in here for Safari polyfill so background images work as expected. */\n",
              "                background-size: auto;\n",
              "            }\n",
              "            .progress-bar-interrupted, .progress-bar-interrupted::-webkit-progress-bar {\n",
              "                background: #F44336;\n",
              "            }\n",
              "        </style>\n",
              "      <progress value='10' class='' max='16' style='width:300px; height:20px; vertical-align: middle;'></progress>\n",
              "      62.50% [10/16 00:41<00:24 0.1338]\n",
              "    </div>\n",
              "    "
            ],
            "text/plain": [
              "<IPython.core.display.HTML object>"
            ]
          },
          "metadata": {}
        },
        {
          "output_type": "stream",
          "name": "stdout",
          "text": [
            "Better model found at epoch 0 with valid_loss value: 0.2907694876194.\n"
          ]
        },
        {
          "output_type": "display_data",
          "data": {
            "image/png": "[encoded data removed]",
            "text/plain": [
              "<Figure size 432x288 with 1 Axes>"
            ]
          },
          "metadata": {}
        },
        {
          "output_type": "stream",
          "name": "stdout",
          "text": [
            "Better model found at epoch 1 with valid_loss value: 0.16618341207504272.\n",
            "Better model found at epoch 2 with valid_loss value: 0.14305926859378815.\n",
            "Better model found at epoch 4 with valid_loss value: 0.128152534365654.\n",
            "Better model found at epoch 5 with valid_loss value: 0.12533222138881683.\n"
          ]
        }
      ],
      "source": [
        "compute(\"Reflection\", \"Resize 512x512\", item_tfms = [Resize((512,512), method=ResizeMethod.Pad, pad_mode=PadMode.Reflection), TargetMaskConvertTransform()])"
      ]
    },
    {
      "cell_type": "markdown",
      "metadata": {
        "id": "LfuNRCeb1pOZ"
      },
      "source": [
        "#### Zero"
      ]
    },
    {
      "cell_type": "code",
      "execution_count": null,
      "metadata": {
        "id": "cxygu8q41pOZ"
      },
      "outputs": [],
      "source": [
        "compute(\"Zero\", \"Resize 512x512\", item_tfms = [Resize((512,512), method=ResizeMethod.Pad, pad_mode=PadMode.Zeros), TargetMaskConvertTransform()])"
      ]
    },
    {
      "cell_type": "markdown",
      "metadata": {
        "id": "n5sjqbea96Hf"
      },
      "source": [
        "#### Pretrained True"
      ]
    },
    {
      "cell_type": "markdown",
      "metadata": {
        "id": "uMOD9Ogd96Hf"
      },
      "source": [
        "##### ResNet50"
      ]
    },
    {
      "cell_type": "code",
      "execution_count": null,
      "metadata": {
        "id": "ucV1P0-i96Hf"
      },
      "outputs": [],
      "source": [
        "compute(\"ResNet50_Pretrained[True]\", \"Backbone [BS 6]\", arch=resnet50, bs=6)"
      ]
    },
    {
      "cell_type": "markdown",
      "metadata": {
        "id": "mmFy3r4_96Hl"
      },
      "source": [
        "##### Resnet101"
      ]
    },
    {
      "cell_type": "code",
      "execution_count": null,
      "metadata": {
        "id": "-8FrSV_O96Hl"
      },
      "outputs": [],
      "source": [
        "compute(\"Resnet101_Pretrained[True]\", \"Backbone [BS 6]\", arch=resnet101, bs=6)"
      ]
    },
    {
      "cell_type": "markdown",
      "metadata": {
        "id": "47sXY7zN96Hl"
      },
      "source": [
        "##### Resnet152"
      ]
    },
    {
      "cell_type": "code",
      "execution_count": null,
      "metadata": {
        "id": "KXasQ37296Hm"
      },
      "outputs": [],
      "source": [
        "compute(\"Resnet152_Pretrained[True]\", \"Backbone [BS 6]\", arch=resnet152, bs=6)"
      ]
    },
    {
      "cell_type": "markdown",
      "metadata": {
        "id": "5pkeJhPq96Hl"
      },
      "source": [
        "##### XResNet50"
      ]
    },
    {
      "cell_type": "code",
      "execution_count": null,
      "metadata": {
        "id": "qf4JIZBc96Hl"
      },
      "outputs": [],
      "source": [
        "compute(\"XResNet50_Pretrained[True]\", \"Backbone [BS 6]\", arch=xresnet50, bs=6)"
      ]
    }
  ],
  "metadata": {
    "accelerator": "GPU",
    "colab": {
      "collapsed_sections": [
        "01U81VYgNCXo",
        "yxK7bLUjuyob",
        "QJTYIGecbYqP",
        "-GjHElnlRq0-",
        "HmdJeDdTo8RH",
        "t9AZm4EgIwwc",
        "Rmi6dXA2o8RL",
        "kVEZ8Ljyo8RL",
        "F9Wa6RoGpkrX",
        "b7-jamiMpkrf",
        "jQqTX-N7I2ju",
        "RVSjrZ54pkrg",
        "HvRe6z14pkrh",
        "3E4WT-SjCRBE",
        "cSdzsODgCRBL",
        "RrtzACS-I9HL",
        "2AAz-Jd7CRBM",
        "pw7GE0KBCRBM",
        "l3zOAUWqFWzz",
        "PNYFXQsTk0vg",
        "Y7EmiUrv0tuZ",
        "nWJOuSK40tuY",
        "RGTkLFuM0tuZ",
        "DAH_9Jh60tuQ",
        "kuNtShKf0tuZ",
        "4j66oassRPfl",
        "qmuX_I8XRPfm",
        "vBPRonRkRPfm",
        "iv4fxpyeRPfn",
        "zgzyR0J8RPfn",
        "I9jTWAKvRPfo",
        "_Q4SQFEO1o_m",
        "aOg5nAfS1o_v",
        "nfqcBPDK1o_u",
        "Kko8JHHA1o_u",
        "H9sWgjCe1o_t",
        "eQp5gz2B1o_u",
        "lZvOQdGA1pOY",
        "IKPPJDQo1pOY",
        "7fOQvp9x1pOY",
        "pn8jcHwa1pOZ",
        "5UN3MK881pOZ",
        "LfuNRCeb1pOZ",
        "rZZZWwwn2t0M",
        "ZDJObX1yIBIr",
        "6HuH1wQoosL7",
        "v9ktmyrnot5Z",
        "RS8CiRcpovOz",
        "rzbNUB1LovuC",
        "KkG5W91X5s_O",
        "mYPWfMjvozL9",
        "hkdJNnie53GK",
        "i1-mc5Who0DG",
        "ns7WRkzg6A83",
        "bSd3Gaw_o09q",
        "CLjkGwFF6WAO",
        "ZcIpE04o6eku",
        "zfyKX4V06nIH",
        "wxVwu6IzpItY",
        "jzjOvAXipH7A",
        "DuX509IApJBA",
        "GIhL_bH8pJ15",
        "FIjmMk-n67-P",
        "R46iNqyUpKBx",
        "HQkAgbnw7Dos",
        "CD3uXkVBpK-N",
        "tcnDvg3dpLWZ",
        "rJIUIgi6pLys",
        "BnMptDLq7Q0T",
        "DCAC9_-OpMfu",
        "kwlzcwnbpMGC",
        "TCbOx7SZpNvE",
        "FiYnfEIc7THs",
        "kr5kWL-U7TX7",
        "GQvZ5CuM7VDM",
        "e-xcVfYspPB0",
        "zb7yRx1R7-CT",
        "i6oiAZTw8Dyz",
        "NVgymuXqpPX7",
        "-WWuMM3gWqqr",
        "SJh61LSZpXE3",
        "qhhU09BwpXlw",
        "owMO7zpcpYZ_",
        "PoP6_IzypYxA",
        "vH_6AOxSpY84",
        "6-8GoEz9pZOg",
        "TAUTchKZpZZQ",
        "QfzTs8rPpZlw",
        "MLRkO13epZ5A",
        "i7RvTeO6paEJ",
        "0_FtXvUspaYJ",
        "RvsGFpdtpaix",
        "kHFbjgkkpa0K",
        "e3brt4uspa9R",
        "o0Px4ETcpbRi",
        "k1-vaQanpb8h",
        "G5s2JJjqpcha",
        "8Ti5_Qp4pcqS",
        "AP8iA48EpdXi",
        "yEKinP9IpdjC",
        "HvVJJFaypd2q",
        "S4FDY-gQpeCb",
        "d_9hN2rTpeOC",
        "STcOps5ipeeD",
        "5zIqP7c-1DNG",
        "HnQqVozUDtjm",
        "mL0R-WuADtjm",
        "kGsvzuxUDtjm",
        "9cV0FPi8Dtjn",
        "XqTWit_0Dtjn",
        "UIwxGkGbDtjo",
        "OmXBr8UPDtjo",
        "siBfQUoLDtjp",
        "2haVZUTPDtjp",
        "bx5nBaZQDtjp",
        "gEFuSTQjDtjp",
        "KvZ_JXnLDtjq",
        "cYy_uY_CDtjq",
        "m5bNcQrmDtjq",
        "XE-SqOZRDtjr",
        "OVDHPzjgDtjr",
        "2nCDdg1dDtjr",
        "mpsBiWwDDtjr",
        "cd8LyYisDtjs",
        "Y0j6HZ5xDtjs",
        "_Z7C3DB5Dtjs",
        "yIIkUC9oDtjs",
        "AWn8lk5LDtjt",
        "EdtfyWGpDtjt",
        "Gk83FXKrDtjt",
        "2CghAHSTDtjt",
        "RxOteSvkDtju",
        "WpogNNtkDtjv",
        "roZUbWrxDtjv",
        "GqqCzsiuDtjw",
        "OFgkv06kDtjw",
        "g2O5VzmFDtjw",
        "-OqGJsoYDtjw",
        "hIsuKlh4Dtjx",
        "2WVbWvgfDtjx",
        "fI5IZgPdDtjx",
        "mZhMWwawDtjy",
        "JzDaXrOlDtjy",
        "NaHQUIecDtjy",
        "TEaAgDiB1DNG",
        "vb9BwY4C1I6k",
        "iqucdMaj1I6k",
        "_XJy2Wag1I6k",
        "VwxAdI5t1I6k",
        "Ifz9U-wM1I6l",
        "BkvVMHDd1I6l",
        "N6D_TtLH1I6l",
        "ks_8ioyl1I6l",
        "4ZuQ9X0X1I6l",
        "gtuHtfQu1I6n",
        "RPvBARnc1I6n",
        "l35Uuc7w1I6n",
        "c9nRAtkr1I6n",
        "4GUy-8V81I6n",
        "mBodEHLG1I6o",
        "gAottENo1I6o",
        "el0AbNVM1I6o",
        "pl2_iwHc1I6o",
        "BBeAga7f1I6o",
        "knFcydat1I6o",
        "niHrUvpI1I6p",
        "tzfDaL9n1I6p",
        "eJi0YhxB1I6p",
        "gTkYzpWO1I6p",
        "uLZum-au1I6p",
        "ZtRZ0iAS1I6q",
        "f_U8JJ8F1I6q",
        "LqgsdF1d1I6q",
        "Tg0qKioc1I6q",
        "WVru7sUW1I6q",
        "ehyuXQon1I6q",
        "wgYo6x8H1I6r",
        "7Q4QrgVg1I6r",
        "qo8AVp8w1I6r",
        "ult1B-pZ1I6r",
        "ItWtGXRh1I6r",
        "k7hbstZs1I6s",
        "cyJb1NVQ1I6s",
        "jMt9BrGU1I6s",
        "xx6viuIF1DNH",
        "CFRiuvUX96HU",
        "K1umyDk-96HU",
        "-HcnIpS396HV",
        "o1gjiWKg96HV",
        "IUGlWUT396HV",
        "j2-UUwjV96HV",
        "90aYeGib96HW",
        "fE0vNux096HW",
        "PiFh1jno96HW",
        "feQDmcOJ96HW",
        "TxqWeZvy96HX",
        "3d_HxSJ296HX",
        "PVac8C1596HX",
        "-xmPZenf96HX",
        "Molan3Hg96HY",
        "ctVbChj-96HY",
        "sqed3Ydl96HY",
        "mkicdZ8P96HY",
        "0eGyy0Bw96HZ",
        "aSJ-1aR896HZ",
        "W6Aw0V9v96HZ",
        "0ZKof7h896HZ",
        "3q5NE3rw96Ha",
        "cwg2ALqN96Ha",
        "_t0rbaF396Ha",
        "tOgLErYX96Ha",
        "VCHZFyUo96Hb",
        "oQkgWUl896Hb",
        "GL5ZMeH_96Hc",
        "JAzNtXmI96Hc",
        "tkTLwSoI96Hc",
        "ZifAJwEd96Hd",
        "a0eEavzb96Hd",
        "5AyCiTOR96Hd",
        "TNYu-Ul696Hd",
        "xYw3U37U96He",
        "KH0EJQc896He",
        "q8aVZCBH96He",
        "9H7z3uq496He",
        "-8MX3e2_1Pf9",
        "qJtggysE96Hl",
        "506-lMgb96Hg",
        "n4AEucOF96Hm",
        "C636RoEA96Hm",
        "5jfYxdXc96Hm",
        "8lqKkniw96Hf",
        "uMOD9Ogd96Hf",
        "mmFy3r4_96Hl",
        "47sXY7zN96Hl",
        "MZI6gM7D96Hg",
        "-Xr2tAzQ96Hg",
        "1Zhw4W_u96Hk",
        "OtEFrdVY96Hk",
        "VLCZ26kN96Hk",
        "7Zp-gp4f96Hk",
        "5pkeJhPq96Hl",
        "skKAAUmR96Hq",
        "cXXceTZA96Hq",
        "WMzaHsQz96Hq",
        "4HW7-y8M96Hr",
        "MCBNX8Xa96Hs",
        "O9jIoq0696Hm",
        "5zklW2T596Hn",
        "-aui1Vg696Hn",
        "jjGYmqIP96Hn",
        "c5BekYNM96Hn",
        "cS4eWJXC96Hp",
        "jzKKFhgn96Hp",
        "DEOA8jX796Hp",
        "egT5BxqO96Hp",
        "pKZtS3OC96Hq",
        "JWsGjNeY96Ho",
        "bxmoB0Iz96Ho",
        "jXee3D_C96Ho",
        "Mj8_hSia96Ho",
        "5BwOdI3D96Ho",
        "umvA0Onx1DNH",
        "oaS661W996Hs",
        "eUapwoRG96Ht",
        "1vbbWWV396Ht",
        "T9B0K87Q96Ht",
        "nKO0er_r96Ht",
        "rmfbPAxD96Hu",
        "y2dAnpGE96Hu",
        "DCkSPpqS96Hv",
        "ourntmmM96Hv",
        "IsZAXJrZ96Hv",
        "7ut-IxQj96Hv",
        "7j9Xlixf96Hv",
        "PNgDMoYl96Hw",
        "qv6qeu7b96Hw",
        "oYc8Lgfz96Hw",
        "dbyOpDcT96Hw",
        "FK_CFKJ596Hw",
        "VEyekA9U96Hx",
        "XXjVvP3q96Hx",
        "g7XAlXlA96Hx",
        "zTHIrgjv96Hx",
        "xcCFjuyo96Hx",
        "SkPEwlvJ96Hy",
        "fLbkdFco96Hy",
        "4LSJPtw896Hy",
        "fE5h5PK696Hy",
        "UKuR79kq96Hy",
        "waLr7SXa96Hz",
        "sbxzALYa96Hz",
        "ZJLWJn9g96Hz",
        "zm4jC_X796Hz",
        "uAow33Rd96Hz",
        "lusbdrVv96Hz",
        "YgBT7taw96H0",
        "Hx_B9BLG96H0",
        "dzehr06696H0",
        "aGENc5Na1DNI",
        "lN891aVe96H1",
        "faOg2l4X96H1",
        "s8noKZUb96H1",
        "Ek6lRxBu96H1",
        "62v41krz96H2",
        "RTp-yCfv96H4",
        "ilIR_k3496H4",
        "Z3N5xclp96H4",
        "gqW95qrM96H4",
        "aJPGlc6E96H4",
        "VgjOOtnF96H5",
        "E47165qa96H5",
        "it3agF-G96H5",
        "9zkoFP-P96H5",
        "IlcuFqHR96H6",
        "Y17zt6CD96H6",
        "6W17k6oO96H6",
        "yneUFB8J96H6",
        "UstyScH296H7",
        "dfd0Gqol96H7",
        "b-nq_CaA96H7",
        "RWRsg3-p96H7",
        "Fy0xn3Ml96H8",
        "tTq3bcQk96H8",
        "7bMdUP1b96H9",
        "GrdkbENw96H9",
        "yB_qmA-c96H9",
        "2n_AK_i496H9",
        "mxAuXmaG96H9",
        "SBxSjzPS96H9",
        "QITjH9l996H-",
        "AcSxejwX96H-",
        "ZoNeMP6x96H-",
        "_hZ2GcF296H-",
        "EKhcMWO796H-",
        "8-qTx1-y96H_",
        "HNN8mlOx96H_",
        "1EqCKGqF96H_",
        "H6YEaEHy0zEP",
        "v9OhbR-o0zEQ",
        "IhoaCSGm0zEQ",
        "7Frmtvwd0zER",
        "blAiB0ih0zER",
        "aA7p_sXC0zES",
        "eEevwoOa0zES",
        "eSQcqoRi0zES",
        "YOEquBMr0zES",
        "T2-ZC7UN0zET",
        "RZnMA5nk0zEV",
        "NjkmbAds0zEV",
        "CQ8SQjbQ0zEV",
        "cegaRPpj0zEV",
        "dX7PwVI_0zEW",
        "-fwt_e-b0zEW",
        "GOoTZTDV0zEW",
        "rL6_rLc40zEX",
        "08rzteuk0zEX",
        "nxwXLPBf0zEX",
        "bT7MFUQX0zEX",
        "gplJB_jy0zEX",
        "FDl0lco30zEY",
        "MlnPGRNM0zEY",
        "2W4VT5IQ0zEY",
        "nVl33IYg0zEY",
        "1D_HSbW60zEY",
        "DSjoVwOA0zEZ",
        "LcLrcGz60zEZ",
        "GAQar-hLdYZn",
        "Rbr-zWVn5V_i",
        "gEhV3Ni45bFB",
        "5HQo9E_rq_ek",
        "F8YWZZ_YTnsN",
        "R72ydZ0Q6_Q4",
        "v7F1OsTn7K6w",
        "x0YYeiUc7LBL",
        "sUBjAOAa7PcJ",
        "0rNx2ofw7PcK",
        "YTBgUA9lFrMU",
        "gexz84deF2N_",
        "C57oajjFGZ0h",
        "EXgEqBNqGbOs",
        "MrPGHJopGb_D",
        "Tufd6tVnGcsD",
        "R6HwA34aG0wn",
        "eSJvV_WpG1MM",
        "riqfcjWMHCMq",
        "cze9h1XfbLJB",
        "jtuua6jV9dFB",
        "KEI0qR477tsT"
      ],
      "name": "PaperSpace_Template.ipynb",
      "provenance": [],
      "include_colab_link": true
    },
    "kernelspec": {
      "display_name": "Python 3",
      "name": "python3"
    },
    "language_info": {
      "name": "python"
    }
  },
  "nbformat": 4,
  "nbformat_minor": 0
}